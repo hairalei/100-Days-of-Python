{
 "cells": [
  {
   "cell_type": "markdown",
   "id": "4ae5a790",
   "metadata": {},
   "source": [
    "# Functions and Methods Homework\n",
    "\n",
    "###### Complete the following questions: \n",
    "\n",
    "Write a function that computes the volume of a sphere given its radius."
   ]
  },
  {
   "cell_type": "code",
   "execution_count": 11,
   "id": "457f8684",
   "metadata": {},
   "outputs": [],
   "source": [
    "import math\n",
    "\n",
    "def sphere(r):\n",
    "    return (4/3)*math.pi*(r**3)"
   ]
  },
  {
   "cell_type": "code",
   "execution_count": 12,
   "id": "8393a785",
   "metadata": {},
   "outputs": [
    {
     "data": {
      "text/plain": [
       "33.510321638291124"
      ]
     },
     "execution_count": 12,
     "metadata": {},
     "output_type": "execute_result"
    }
   ],
   "source": [
    "sphere(2)"
   ]
  },
  {
   "cell_type": "markdown",
   "id": "d4c686c6",
   "metadata": {},
   "source": [
    "<hr>\n",
    "\n",
    "\n",
    "**Write a function that checks whether a number is in a given range (inclusive of high and low)**"
   ]
  },
  {
   "cell_type": "code",
   "execution_count": 14,
   "id": "2b8b23e7",
   "metadata": {},
   "outputs": [],
   "source": [
    "def is_in_range(num, low, high):\n",
    "    return num in list(range(low, high+1))"
   ]
  },
  {
   "cell_type": "code",
   "execution_count": 15,
   "id": "bd0ebc72",
   "metadata": {},
   "outputs": [
    {
     "data": {
      "text/plain": [
       "True"
      ]
     },
     "execution_count": 15,
     "metadata": {},
     "output_type": "execute_result"
    }
   ],
   "source": [
    "is_in_range(3, 1, 5)"
   ]
  },
  {
   "cell_type": "code",
   "execution_count": 16,
   "id": "d668c3ae",
   "metadata": {},
   "outputs": [
    {
     "data": {
      "text/plain": [
       "False"
      ]
     },
     "execution_count": 16,
     "metadata": {},
     "output_type": "execute_result"
    }
   ],
   "source": [
    "is_in_range(7, 1, 5)"
   ]
  },
  {
   "cell_type": "markdown",
   "id": "7a60f311",
   "metadata": {},
   "source": [
    "<hr>\n",
    "\n",
    "\n",
    "**Write a Python function that accepts a string and calculates the number of upper case letters and lower case letters.**\n",
    "\n",
    "    Sample String : 'Hello Mr. Rogers, how are you this fine Tuesday?'\n",
    "    Expected Output : \n",
    "    No. of Upper case characters : 4\n",
    "    No. of Lower case Characters : 33\n",
    "\n",
    "HINT: Two string methods that might prove useful: .isupper() and .islower()\n",
    "\n",
    "If you feel ambitious, explore the Collections module to solve this problem!"
   ]
  },
  {
   "cell_type": "code",
   "execution_count": 22,
   "id": "62613e15",
   "metadata": {},
   "outputs": [],
   "source": [
    "def up_low(s):\n",
    "    upper = 0\n",
    "    lower = 0\n",
    "    \n",
    "    for c in s:\n",
    "        if c.isupper():\n",
    "            upper += 1\n",
    "        elif c.islower():\n",
    "            lower += 1\n",
    "    \n",
    "    return f\"Upper: {upper}, Lower: {lower}\""
   ]
  },
  {
   "cell_type": "code",
   "execution_count": 23,
   "id": "01720924",
   "metadata": {},
   "outputs": [
    {
     "data": {
      "text/plain": [
       "'Upper: 4, Lower: 33'"
      ]
     },
     "execution_count": 23,
     "metadata": {},
     "output_type": "execute_result"
    }
   ],
   "source": [
    "up_low('Hello Mr. Rogers, how are you this fine Tuesday?')"
   ]
  },
  {
   "cell_type": "markdown",
   "id": "c468bd62",
   "metadata": {},
   "source": [
    "\n",
    "<hr>\n",
    "\n",
    "**Write a Python function that takes a list and returns a new list with unique elements of the first list.**\n",
    "\n",
    "    Sample List : [1,1,1,1,2,2,3,3,3,3,4,5]\n",
    "    Unique List : [1, 2, 3, 4, 5]"
   ]
  },
  {
   "cell_type": "code",
   "execution_count": 24,
   "id": "fd92f99a",
   "metadata": {},
   "outputs": [],
   "source": [
    "def unique_list(arr):\n",
    "    return [*set(arr)]"
   ]
  },
  {
   "cell_type": "code",
   "execution_count": 25,
   "id": "0f0e7573",
   "metadata": {},
   "outputs": [
    {
     "data": {
      "text/plain": [
       "[1, 2, 3, 4, 5]"
      ]
     },
     "execution_count": 25,
     "metadata": {},
     "output_type": "execute_result"
    }
   ],
   "source": [
    "unique_list([1,1,1,1,2,2,3,3,3,3,4,5])"
   ]
  },
  {
   "cell_type": "markdown",
   "id": "ccc93723",
   "metadata": {},
   "source": [
    "\n",
    "<hr>\n",
    "\n",
    "**Write a Python function to multiply all the numbers in a list.**\n",
    "\n",
    "    Sample List : [1, 2, 3, -4]\n",
    "    Expected Output : -24"
   ]
  },
  {
   "cell_type": "code",
   "execution_count": 30,
   "id": "6ee9620b",
   "metadata": {},
   "outputs": [],
   "source": [
    "def multiply(arr):\n",
    "    result = 1\n",
    "    for i, n in enumerate(arr):\n",
    "            result *= n\n",
    "            \n",
    "    return result"
   ]
  },
  {
   "cell_type": "code",
   "execution_count": 31,
   "id": "39d83800",
   "metadata": {},
   "outputs": [
    {
     "data": {
      "text/plain": [
       "-24"
      ]
     },
     "execution_count": 31,
     "metadata": {},
     "output_type": "execute_result"
    }
   ],
   "source": [
    "multiply([1, 2, 3, -4])"
   ]
  },
  {
   "cell_type": "markdown",
   "id": "d19cdd4d",
   "metadata": {},
   "source": [
    "\n",
    "<hr>\n",
    "\n",
    "**Write a Python function that checks whether a word or phrase is palindrome or not**"
   ]
  },
  {
   "cell_type": "code",
   "execution_count": 40,
   "id": "2490b8c9",
   "metadata": {},
   "outputs": [],
   "source": [
    "def palindrome(text):\n",
    "    new_text = text.replace(\" \", \"\").lower()\n",
    "    return new_text[::-1] == new_text"
   ]
  },
  {
   "cell_type": "code",
   "execution_count": 41,
   "id": "1fd275a2",
   "metadata": {},
   "outputs": [
    {
     "data": {
      "text/plain": [
       "True"
      ]
     },
     "execution_count": 41,
     "metadata": {},
     "output_type": "execute_result"
    }
   ],
   "source": [
    "palindrome('nurses run')"
   ]
  },
  {
   "cell_type": "code",
   "execution_count": 42,
   "id": "2820d0ac",
   "metadata": {},
   "outputs": [
    {
     "data": {
      "text/plain": [
       "False"
      ]
     },
     "execution_count": 42,
     "metadata": {},
     "output_type": "execute_result"
    }
   ],
   "source": [
    "palindrome('hello')"
   ]
  },
  {
   "cell_type": "code",
   "execution_count": 43,
   "id": "fc3a68fd",
   "metadata": {},
   "outputs": [
    {
     "data": {
      "text/plain": [
       "True"
      ]
     },
     "execution_count": 43,
     "metadata": {},
     "output_type": "execute_result"
    }
   ],
   "source": [
    "palindrome(\"A nut for a jar of tuna\")"
   ]
  },
  {
   "cell_type": "markdown",
   "id": "405147f3",
   "metadata": {},
   "source": [
    "\n",
    "<hr>\n",
    "\n",
    "**Hard:**\n",
    "**Write a Python function to check whether a string is pangram or not. (Assume the string passed in does not have any punctuation)**\n",
    "\n",
    "    Note : Pangrams are words or sentences containing every letter of the alphabet at least once.\n",
    "    For example : \"The quick brown fox jumps over the lazy dog\""
   ]
  },
  {
   "cell_type": "code",
   "execution_count": 49,
   "id": "2fac6ff1",
   "metadata": {},
   "outputs": [],
   "source": [
    "letters = 'abcdefghijklmnopqrstuvyxyz'\n",
    "\n",
    "def pangram(text):\n",
    "    for c in letters:\n",
    "        if c not in text.lower():\n",
    "            return False\n",
    "        \n",
    "    return True"
   ]
  },
  {
   "cell_type": "code",
   "execution_count": 50,
   "id": "15f5bfd9",
   "metadata": {},
   "outputs": [
    {
     "data": {
      "text/plain": [
       "True"
      ]
     },
     "execution_count": 50,
     "metadata": {},
     "output_type": "execute_result"
    }
   ],
   "source": [
    "pangram(\"The quick brown fox jumps over the lazy dog\")"
   ]
  },
  {
   "cell_type": "code",
   "execution_count": 51,
   "id": "45c5bda8",
   "metadata": {},
   "outputs": [
    {
     "data": {
      "text/plain": [
       "False"
      ]
     },
     "execution_count": 51,
     "metadata": {},
     "output_type": "execute_result"
    }
   ],
   "source": [
    "pangram(\"The quick brown fox jumps over the lazy do\")"
   ]
  },
  {
   "cell_type": "code",
   "execution_count": 56,
   "id": "5ce59285",
   "metadata": {},
   "outputs": [
    {
     "data": {
      "text/plain": [
       "True"
      ]
     },
     "execution_count": 56,
     "metadata": {},
     "output_type": "execute_result"
    }
   ],
   "source": [
    "pangram(\"The five boxing wizards jump quickly\")"
   ]
  },
  {
   "cell_type": "code",
   "execution_count": null,
   "id": "d354fc2a",
   "metadata": {},
   "outputs": [],
   "source": []
  }
 ],
 "metadata": {
  "kernelspec": {
   "display_name": "Python 3 (ipykernel)",
   "language": "python",
   "name": "python3"
  },
  "language_info": {
   "codemirror_mode": {
    "name": "ipython",
    "version": 3
   },
   "file_extension": ".py",
   "mimetype": "text/x-python",
   "name": "python",
   "nbconvert_exporter": "python",
   "pygments_lexer": "ipython3",
   "version": "3.10.9"
  }
 },
 "nbformat": 4,
 "nbformat_minor": 5
}
