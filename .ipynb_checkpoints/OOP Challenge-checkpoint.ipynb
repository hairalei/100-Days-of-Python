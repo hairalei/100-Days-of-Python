{
 "cells": [
  {
   "cell_type": "markdown",
   "id": "1e37f2a3",
   "metadata": {},
   "source": [
    "# Object Oriented Programming\n",
    "\n",
    "### Homework Assignment\n",
    "\n",
    "**Problem 1**\n",
    "\n",
    "Fill in the Line class methods to accept coordinates as a pair of tuples and return the slope and distance of the line.\n",
    "\n",
    "    class Line:\n",
    "        def __init__(self,coor1,coor2):\n",
    "            pass\n",
    "    \n",
    "        def distance(self):\n",
    "            pass\n",
    "    \n",
    "        def slope(self):\n",
    "            pass\n",
    "            \n",
    "     # EXAMPLE OUTPUT\n",
    "\n",
    "coordinate1 = (3,2) <br/>\n",
    "coordinate2 = (8,10)\n",
    "\n",
    "li = Line(coordinate1,coordinate2)\n",
    "\n",
    "li.distance()  <br/>\n",
    "    9.433981132056603\n",
    "\n",
    "li.slope() <br/>\n",
    "    1.6\n",
    "    \n",
    "<hr/>"
   ]
  },
  {
   "cell_type": "code",
   "execution_count": 26,
   "id": "31ead3bf",
   "metadata": {},
   "outputs": [],
   "source": [
    "class Line:\n",
    "    def __init__(self, coor1, coor2):\n",
    "        self.coor1 = coor1\n",
    "        self.coor2 = coor2\n",
    "    \n",
    "    def distance(self):\n",
    "        x1, y1 = self.coor1\n",
    "        x2, y2 = self.coor2\n",
    "        \n",
    "        return ((x2 - x1)**2 + (y2 - y1)**2) ** (1/2)\n",
    "    \n",
    "    def slope(self):\n",
    "        x1, y1 = self.coor1\n",
    "        x2, y2 = self.coor2\n",
    "        \n",
    "        return (y2 - y1) / (x2 - x1)\n",
    "        "
   ]
  },
  {
   "cell_type": "code",
   "execution_count": 27,
   "id": "f0b33861",
   "metadata": {},
   "outputs": [],
   "source": [
    "li = Line((3,2), (8,10))"
   ]
  },
  {
   "cell_type": "code",
   "execution_count": 28,
   "id": "e4f1120b",
   "metadata": {},
   "outputs": [
    {
     "data": {
      "text/plain": [
       "9.433981132056603"
      ]
     },
     "execution_count": 28,
     "metadata": {},
     "output_type": "execute_result"
    }
   ],
   "source": [
    "li.distance()"
   ]
  },
  {
   "cell_type": "code",
   "execution_count": 29,
   "id": "dc1ee97f",
   "metadata": {},
   "outputs": [
    {
     "data": {
      "text/plain": [
       "1.6"
      ]
     },
     "execution_count": 29,
     "metadata": {},
     "output_type": "execute_result"
    }
   ],
   "source": [
    "li.slope()"
   ]
  },
  {
   "cell_type": "markdown",
   "id": "80c112e7",
   "metadata": {},
   "source": [
    "<br/>\n",
    "<hr/>\n",
    "<br/>\n",
    "\n",
    "**Problem 2**\n",
    "\n",
    "Fill in the class\n",
    "\n",
    "    class Cylinder:\n",
    "    \n",
    "        def __init__(self,height=1,radius=1):\n",
    "            pass\n",
    "\n",
    "        def volume(self):\n",
    "            pass\n",
    "\n",
    "        def surface_area(self):\n",
    "            pass\n",
    "            \n",
    "EXAMPLE OUTPUT <br/>\n",
    "c = Cylinder(2,3)\n",
    "\n",
    "c.volume()<br/>\n",
    "56.52<br/>\n",
    "c.surface_area()<br/>\n",
    "94.2<br/>\n",
    "\n",
    "<hr/>"
   ]
  },
  {
   "cell_type": "code",
   "execution_count": 36,
   "id": "6391c913",
   "metadata": {},
   "outputs": [],
   "source": [
    "class Cylinder:\n",
    "    pi = 3.14\n",
    "    \n",
    "    def __init__(self, height=1, radius=1):\n",
    "        self.height = height\n",
    "        self.radius = radius\n",
    "        \n",
    "    def volume(self):\n",
    "        return Cylinder.pi * (self.radius)**2 * self.height\n",
    "    \n",
    "    def surface_area(self):\n",
    "        r = self.radius\n",
    "        h = self.height\n",
    "        pi = Cylinder.pi\n",
    "        \n",
    "        return (2 * pi * r * h) + (2 * pi * r**2)"
   ]
  },
  {
   "cell_type": "code",
   "execution_count": 37,
   "id": "78215096",
   "metadata": {},
   "outputs": [],
   "source": [
    "c = Cylinder(2,3)"
   ]
  },
  {
   "cell_type": "code",
   "execution_count": 38,
   "id": "b24b9a66",
   "metadata": {},
   "outputs": [
    {
     "data": {
      "text/plain": [
       "56.52"
      ]
     },
     "execution_count": 38,
     "metadata": {},
     "output_type": "execute_result"
    }
   ],
   "source": [
    "c.volume()"
   ]
  },
  {
   "cell_type": "code",
   "execution_count": 39,
   "id": "493f83d1",
   "metadata": {},
   "outputs": [
    {
     "data": {
      "text/plain": [
       "94.2"
      ]
     },
     "execution_count": 39,
     "metadata": {},
     "output_type": "execute_result"
    }
   ],
   "source": [
    "c.surface_area()"
   ]
  },
  {
   "cell_type": "markdown",
   "id": "38324688",
   "metadata": {},
   "source": [
    "<br/>\n",
    "<hr/>\n",
    "<br/>\n",
    "\n",
    "\n",
    "# Object Oriented Programming Challenge\n",
    "\n",
    "For this challenge, create a bank account class that has two attributes:\n",
    "\n",
    "   - owner\n",
    "   - balance\n",
    "    \n",
    "and two methods:\n",
    "\n",
    "   - deposit\n",
    "   - withdraw\n",
    "    \n",
    "As an added requirement, withdrawals may not exceed the available balance.\n",
    "\n",
    "Instantiate your class, make several deposits and withdrawals, and test to make sure the account can't be overdrawn.\n",
    "\n",
    "    class Account:\n",
    "        pass\n",
    "        \n",
    "acct1 = Account('Jose',100)\n",
    "\n",
    "print(acct1)<br/>\n",
    "Account owner:   Jose<br/>\n",
    "Account balance: $100<br/>\n",
    "\n",
    "acct1.owner<br/>\n",
    "'Jose'\n",
    "\n",
    "acct1.balance<br/>\n",
    "100\n",
    "\n",
    "acct1.deposit(50)<br/>\n",
    "Deposit Accepted\n",
    "\n",
    "acct1.withdraw(75)<br/>\n",
    "Withdrawal Accepted\n",
    "\n",
    "acct1.withdraw(500)<br/>\n",
    "Funds Unavailable!<br/>\n",
    "\n",
    "<hr/>"
   ]
  },
  {
   "cell_type": "code",
   "execution_count": 62,
   "id": "95aeb616",
   "metadata": {},
   "outputs": [],
   "source": [
    "class Account:\n",
    "    def __init__(self, name, balance):\n",
    "        self.name = name\n",
    "        self.balance = balance\n",
    "        \n",
    "    def __str__(self):\n",
    "        return (f'Account owner: {self.name}\\nAccount balance: ${self.balance}')\n",
    "    \n",
    "    def deposit(self, money):\n",
    "        self.balance += money\n",
    "        return f'Deposit Accepted. New balance: {self.balance}'\n",
    "    \n",
    "    def withdraw(self, money):\n",
    "        if money > self.balance:\n",
    "            return 'Funds Unavailable!'\n",
    "        \n",
    "        self.balance -= money\n",
    "        return f'Withdrawal Accepted. New balance: {self.balance}'"
   ]
  },
  {
   "cell_type": "code",
   "execution_count": 63,
   "id": "14295400",
   "metadata": {},
   "outputs": [],
   "source": [
    "acc = Account('Jose', 100)"
   ]
  },
  {
   "cell_type": "code",
   "execution_count": 64,
   "id": "e584e0ba",
   "metadata": {},
   "outputs": [
    {
     "name": "stdout",
     "output_type": "stream",
     "text": [
      "Account owner: Jose\n",
      "Account balance: $100\n"
     ]
    }
   ],
   "source": [
    "print(acc)"
   ]
  },
  {
   "cell_type": "code",
   "execution_count": 65,
   "id": "fcdc3c9e",
   "metadata": {},
   "outputs": [
    {
     "data": {
      "text/plain": [
       "'Deposit Accepted. New balance: 600'"
      ]
     },
     "execution_count": 65,
     "metadata": {},
     "output_type": "execute_result"
    }
   ],
   "source": [
    "acc.deposit(500)"
   ]
  },
  {
   "cell_type": "code",
   "execution_count": 66,
   "id": "d378d0d9",
   "metadata": {},
   "outputs": [
    {
     "data": {
      "text/plain": [
       "'Funds Unavailable!'"
      ]
     },
     "execution_count": 66,
     "metadata": {},
     "output_type": "execute_result"
    }
   ],
   "source": [
    "acc.withdraw(1000)"
   ]
  },
  {
   "cell_type": "code",
   "execution_count": 67,
   "id": "d45ee42b",
   "metadata": {},
   "outputs": [
    {
     "data": {
      "text/plain": [
       "'Withdrawal Accepted. New balance: 500'"
      ]
     },
     "execution_count": 67,
     "metadata": {},
     "output_type": "execute_result"
    }
   ],
   "source": [
    "acc.withdraw(100)"
   ]
  }
 ],
 "metadata": {
  "kernelspec": {
   "display_name": "Python 3 (ipykernel)",
   "language": "python",
   "name": "python3"
  },
  "language_info": {
   "codemirror_mode": {
    "name": "ipython",
    "version": 3
   },
   "file_extension": ".py",
   "mimetype": "text/x-python",
   "name": "python",
   "nbconvert_exporter": "python",
   "pygments_lexer": "ipython3",
   "version": "3.10.9"
  }
 },
 "nbformat": 4,
 "nbformat_minor": 5
}
