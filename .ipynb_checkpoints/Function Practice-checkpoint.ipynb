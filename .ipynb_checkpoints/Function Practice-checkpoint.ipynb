{
 "cells": [
  {
   "cell_type": "markdown",
   "id": "25f5a486",
   "metadata": {},
   "source": [
    "**LESSER OF TWO EVENS:**\n",
    "\n",
    "Write a function that returns the lesser of two given numbers if both numbers are even, but returns the greater if one or both numbers are odd\n",
    "\n",
    "    lesser_of_two_evens(2,4) --> 2\n",
    "    lesser_of_two_evens(2,5) --> 5"
   ]
  },
  {
   "cell_type": "code",
   "execution_count": 8,
   "id": "6eb26bd2",
   "metadata": {},
   "outputs": [],
   "source": [
    "def lesser_of_two_evens(num1, num2):\n",
    "    if num1 % 2 == 0 and num2 % 2 == 0:\n",
    "        return num1 if num1 < num2 else num2\n",
    "    else:\n",
    "        return num1 if num1 > num2 else num2"
   ]
  },
  {
   "cell_type": "code",
   "execution_count": 9,
   "id": "fe6c81da",
   "metadata": {},
   "outputs": [
    {
     "data": {
      "text/plain": [
       "2"
      ]
     },
     "execution_count": 9,
     "metadata": {},
     "output_type": "execute_result"
    }
   ],
   "source": [
    "lesser_of_two_evens(2, 4)"
   ]
  },
  {
   "cell_type": "code",
   "execution_count": 10,
   "id": "a7269386",
   "metadata": {},
   "outputs": [
    {
     "data": {
      "text/plain": [
       "5"
      ]
     },
     "execution_count": 10,
     "metadata": {},
     "output_type": "execute_result"
    }
   ],
   "source": [
    "lesser_of_two_evens(2, 5)"
   ]
  },
  {
   "cell_type": "markdown",
   "id": "a47ab5d2",
   "metadata": {},
   "source": [
    "**ANIMAL CRACKERS:** \n",
    "\n",
    "Write a function takes a two-word string and returns **True** if both words begin with same letter\n",
    "\n",
    "    animal_crackers('Levelheaded Llama') --> True\n",
    "    animal_crackers('Crazy Kangaroo') --> False"
   ]
  },
  {
   "cell_type": "code",
   "execution_count": 23,
   "id": "960eaccb",
   "metadata": {},
   "outputs": [],
   "source": [
    "def animal_crackers(str):\n",
    "    str = str.split()\n",
    "    return str[0][0].lower() == str[1][0].lower()"
   ]
  },
  {
   "cell_type": "code",
   "execution_count": 24,
   "id": "2da04efa",
   "metadata": {},
   "outputs": [
    {
     "data": {
      "text/plain": [
       "True"
      ]
     },
     "execution_count": 24,
     "metadata": {},
     "output_type": "execute_result"
    }
   ],
   "source": [
    "animal_crackers('Levelheaded Llama')"
   ]
  },
  {
   "cell_type": "code",
   "execution_count": 25,
   "id": "c964d5d9",
   "metadata": {},
   "outputs": [
    {
     "data": {
      "text/plain": [
       "False"
      ]
     },
     "execution_count": 25,
     "metadata": {},
     "output_type": "execute_result"
    }
   ],
   "source": [
    "animal_crackers('Crazy Kangaroo')"
   ]
  },
  {
   "cell_type": "markdown",
   "id": "1a82bd70",
   "metadata": {},
   "source": [
    "**MAKES TWENTY:**\n",
    "\n",
    "Given two integers, return **True** if the sum of the integers is 20 or if one of the integers is 20. If not, return **False**\n",
    "\n",
    "    makes_twenty(20,10) --> True\n",
    "    makes_twenty(12,8) --> True\n",
    "    makes_twenty(2,3) --> False"
   ]
  },
  {
   "cell_type": "code",
   "execution_count": 27,
   "id": "59b7427c",
   "metadata": {},
   "outputs": [],
   "source": [
    "def makes_twenty(num1, num2):\n",
    "    return num1 + num2 == 20 or num1 == 20 or num2 == 20"
   ]
  },
  {
   "cell_type": "code",
   "execution_count": 28,
   "id": "b6d31a84",
   "metadata": {
    "scrolled": true
   },
   "outputs": [
    {
     "data": {
      "text/plain": [
       "True"
      ]
     },
     "execution_count": 28,
     "metadata": {},
     "output_type": "execute_result"
    }
   ],
   "source": [
    "makes_twenty(20, 10)"
   ]
  },
  {
   "cell_type": "code",
   "execution_count": 29,
   "id": "fb4c59e1",
   "metadata": {},
   "outputs": [
    {
     "data": {
      "text/plain": [
       "True"
      ]
     },
     "execution_count": 29,
     "metadata": {},
     "output_type": "execute_result"
    }
   ],
   "source": [
    "makes_twenty(12, 8)"
   ]
  },
  {
   "cell_type": "code",
   "execution_count": 30,
   "id": "b9221162",
   "metadata": {},
   "outputs": [
    {
     "data": {
      "text/plain": [
       "False"
      ]
     },
     "execution_count": 30,
     "metadata": {},
     "output_type": "execute_result"
    }
   ],
   "source": [
    "makes_twenty(2,3)"
   ]
  },
  {
   "cell_type": "markdown",
   "id": "1cae31e8",
   "metadata": {},
   "source": [
    "**OLD MACDONALD:** \n",
    "\n",
    "Write a function that capitalizes the first and fourth letters of a name\n",
    "\n",
    "    old_macdonald('macdonald') --> MacDonald\n",
    "\n",
    "*Note: 'macdonald'.capitalize() returns 'Macdonald'*"
   ]
  },
  {
   "cell_type": "code",
   "execution_count": 49,
   "id": "26f01a8e",
   "metadata": {},
   "outputs": [],
   "source": [
    "def old_macdonald(str):\n",
    "    new_str = ''\n",
    "    \n",
    "    if len(str) <= 4:\n",
    "        return str[0].upper() + str[1:4]\n",
    "    \n",
    "    for i, letter in enumerate(str):\n",
    "        if i == 0 or i == 3:\n",
    "            new_str += letter.upper()\n",
    "        else:\n",
    "            new_str += letter\n",
    "    \n",
    "    return new_str"
   ]
  },
  {
   "cell_type": "code",
   "execution_count": 50,
   "id": "071cf6eb",
   "metadata": {},
   "outputs": [
    {
     "data": {
      "text/plain": [
       "'Macd'"
      ]
     },
     "execution_count": 50,
     "metadata": {},
     "output_type": "execute_result"
    }
   ],
   "source": [
    "old_macdonald('macd')"
   ]
  },
  {
   "cell_type": "code",
   "execution_count": 51,
   "id": "24c21788",
   "metadata": {},
   "outputs": [
    {
     "data": {
      "text/plain": [
       "'MacDonald'"
      ]
     },
     "execution_count": 51,
     "metadata": {},
     "output_type": "execute_result"
    }
   ],
   "source": [
    "old_macdonald('macdonald')"
   ]
  },
  {
   "cell_type": "markdown",
   "id": "d5e77f34",
   "metadata": {},
   "source": [
    "**MASTER YODA:**\n",
    "\n",
    "Given a sentence, return a sentence with the words reversed\n",
    "\n",
    "    master_yoda('I am home') --> 'home am I'\n",
    "    master_yoda('We are ready') --> 'ready are We'"
   ]
  },
  {
   "cell_type": "code",
   "execution_count": 68,
   "id": "309b50be",
   "metadata": {},
   "outputs": [],
   "source": [
    "def master_yoda(str):\n",
    "    new_list = str.split(' ')\n",
    "    new_list.reverse()\n",
    "    \n",
    "    return ' '.join(new_list)"
   ]
  },
  {
   "cell_type": "code",
   "execution_count": 71,
   "id": "6ca5af74",
   "metadata": {},
   "outputs": [
    {
     "data": {
      "text/plain": [
       "'home am I'"
      ]
     },
     "execution_count": 71,
     "metadata": {},
     "output_type": "execute_result"
    }
   ],
   "source": [
    "master_yoda('I am home')"
   ]
  },
  {
   "cell_type": "code",
   "execution_count": 72,
   "id": "75089a4b",
   "metadata": {},
   "outputs": [
    {
     "data": {
      "text/plain": [
       "'ready are We'"
      ]
     },
     "execution_count": 72,
     "metadata": {},
     "output_type": "execute_result"
    }
   ],
   "source": [
    "master_yoda('We are ready')"
   ]
  },
  {
   "cell_type": "markdown",
   "id": "578e561b",
   "metadata": {},
   "source": [
    "**ALMOST THERE:** \n",
    "\n",
    "Given an integer n, return True if n is within 10 of either 100 or 200\n",
    "\n",
    "    almost_there(90) --> True\n",
    "    almost_there(104) --> True\n",
    "    almost_there(150) --> False\n",
    "    almost_there(209) --> True\n",
    "\n",
    "NOTE: abs(num) returns the absolute value of a number"
   ]
  },
  {
   "cell_type": "code",
   "execution_count": 76,
   "id": "12f830c8",
   "metadata": {},
   "outputs": [],
   "source": [
    "def almost_there(n):\n",
    "    return abs(n - 100) <= 10 or abs(n - 200) <= 10"
   ]
  },
  {
   "cell_type": "code",
   "execution_count": 77,
   "id": "69114f2a",
   "metadata": {},
   "outputs": [
    {
     "data": {
      "text/plain": [
       "True"
      ]
     },
     "execution_count": 77,
     "metadata": {},
     "output_type": "execute_result"
    }
   ],
   "source": [
    "almost_there(90)"
   ]
  },
  {
   "cell_type": "code",
   "execution_count": 78,
   "id": "5658a8ac",
   "metadata": {},
   "outputs": [
    {
     "data": {
      "text/plain": [
       "True"
      ]
     },
     "execution_count": 78,
     "metadata": {},
     "output_type": "execute_result"
    }
   ],
   "source": [
    "almost_there(104)"
   ]
  },
  {
   "cell_type": "code",
   "execution_count": 79,
   "id": "43372612",
   "metadata": {},
   "outputs": [
    {
     "data": {
      "text/plain": [
       "False"
      ]
     },
     "execution_count": 79,
     "metadata": {},
     "output_type": "execute_result"
    }
   ],
   "source": [
    "almost_there(150)"
   ]
  },
  {
   "cell_type": "code",
   "execution_count": 80,
   "id": "550c0c18",
   "metadata": {},
   "outputs": [
    {
     "data": {
      "text/plain": [
       "True"
      ]
     },
     "execution_count": 80,
     "metadata": {},
     "output_type": "execute_result"
    }
   ],
   "source": [
    "almost_there(209)"
   ]
  },
  {
   "cell_type": "markdown",
   "id": "fec981fa",
   "metadata": {},
   "source": [
    "**FIND 33:**\n",
    "\n",
    "Given a list of ints, return True if the array contains a 3 next to a 3 somewhere.\n",
    "\n",
    "    has_33([1, 3, 3]) → True\n",
    "    has_33([1, 3, 1, 3]) → False\n",
    "    has_33([3, 1, 3]) → False"
   ]
  },
  {
   "cell_type": "code",
   "execution_count": 81,
   "id": "dd1382e9",
   "metadata": {},
   "outputs": [],
   "source": [
    "def has_33(arr):\n",
    "    if arr.count(3) < 2:\n",
    "        return False\n",
    "    \n",
    "    answer = False\n",
    "    \n",
    "    for i, n in enumerate(arr):\n",
    "        if n == 3 and i != 0:\n",
    "            answer = arr[i] == 3 and arr[i-1] == 3\n",
    "            \n",
    "    return answer\n",
    "        "
   ]
  },
  {
   "cell_type": "code",
   "execution_count": 82,
   "id": "91ff3cff",
   "metadata": {},
   "outputs": [
    {
     "data": {
      "text/plain": [
       "True"
      ]
     },
     "execution_count": 82,
     "metadata": {},
     "output_type": "execute_result"
    }
   ],
   "source": [
    "has_33([1, 3, 3])"
   ]
  },
  {
   "cell_type": "code",
   "execution_count": 83,
   "id": "45f6620c",
   "metadata": {},
   "outputs": [
    {
     "data": {
      "text/plain": [
       "False"
      ]
     },
     "execution_count": 83,
     "metadata": {},
     "output_type": "execute_result"
    }
   ],
   "source": [
    "has_33([1, 3, 1, 3])"
   ]
  },
  {
   "cell_type": "code",
   "execution_count": 84,
   "id": "45be56c1",
   "metadata": {},
   "outputs": [
    {
     "data": {
      "text/plain": [
       "False"
      ]
     },
     "execution_count": 84,
     "metadata": {},
     "output_type": "execute_result"
    }
   ],
   "source": [
    "has_33([3, 1, 3])"
   ]
  },
  {
   "cell_type": "code",
   "execution_count": 85,
   "id": "b1aad21e",
   "metadata": {},
   "outputs": [
    {
     "data": {
      "text/plain": [
       "False"
      ]
     },
     "execution_count": 85,
     "metadata": {},
     "output_type": "execute_result"
    }
   ],
   "source": [
    "has_33([2, 1, 9])"
   ]
  },
  {
   "cell_type": "markdown",
   "id": "d05791fe",
   "metadata": {},
   "source": [
    "**PAPER DOLL:**\n",
    "    \n",
    "Given a string, return a string where for every character in the original there are three characters\n",
    "\n",
    "    paper_doll('Hello') --> 'HHHeeellllllooo'\n",
    "    paper_doll('Mississippi') --> 'MMMiiissssssiiippppppiii'"
   ]
  },
  {
   "cell_type": "code",
   "execution_count": 107,
   "id": "af44e784",
   "metadata": {},
   "outputs": [],
   "source": [
    "def paper_doll(string):\n",
    "    new_str = ''\n",
    "    \n",
    "    for letter in string:\n",
    "        new_str += (letter * 3)\n",
    "   \n",
    "    \n",
    "    return new_str\n",
    "    "
   ]
  },
  {
   "cell_type": "code",
   "execution_count": 108,
   "id": "76993123",
   "metadata": {},
   "outputs": [
    {
     "data": {
      "text/plain": [
       "'HHHeeellllllooo'"
      ]
     },
     "execution_count": 108,
     "metadata": {},
     "output_type": "execute_result"
    }
   ],
   "source": [
    "paper_doll('Hello')"
   ]
  },
  {
   "cell_type": "code",
   "execution_count": 109,
   "id": "ccf542fe",
   "metadata": {},
   "outputs": [
    {
     "data": {
      "text/plain": [
       "'MMMiiissssssiiissssssiiippppppiii'"
      ]
     },
     "execution_count": 109,
     "metadata": {},
     "output_type": "execute_result"
    }
   ],
   "source": [
    "paper_doll('Mississippi')"
   ]
  },
  {
   "cell_type": "markdown",
   "id": "654c77ac",
   "metadata": {},
   "source": [
    "***BLACKJACK:***\n",
    "\n",
    "Given three integers between 1 and 11, if their sum is less than or equal to 21, return their sum. If their sum exceeds 21 and there's an eleven, reduce the total sum by 10. Finally, if the sum (even after adjustment) exceeds 21, return 'BUST'\n",
    "\n",
    "    blackjack(5,6,7) --> 18\n",
    "    blackjack(9,9,9) --> 'BUST'\n",
    "    blackjack(9,9,11) --> 19"
   ]
  },
  {
   "cell_type": "code",
   "execution_count": 110,
   "id": "0f44c8da",
   "metadata": {},
   "outputs": [],
   "source": [
    "def blackjack(x, y, z):\n",
    "    sum = x + y + z\n",
    "    \n",
    "    if sum > 21 and (x == 11 or y == 11 or z == 11):\n",
    "        sum -= 10\n",
    "        \n",
    "    if sum <= 21:\n",
    "        return sum\n",
    "    else:\n",
    "        return 'BUST'"
   ]
  },
  {
   "cell_type": "code",
   "execution_count": 111,
   "id": "1ed0a872",
   "metadata": {},
   "outputs": [
    {
     "data": {
      "text/plain": [
       "18"
      ]
     },
     "execution_count": 111,
     "metadata": {},
     "output_type": "execute_result"
    }
   ],
   "source": [
    "blackjack(5,6,7)"
   ]
  },
  {
   "cell_type": "code",
   "execution_count": 112,
   "id": "050c41a6",
   "metadata": {},
   "outputs": [
    {
     "data": {
      "text/plain": [
       "'BUST'"
      ]
     },
     "execution_count": 112,
     "metadata": {},
     "output_type": "execute_result"
    }
   ],
   "source": [
    "blackjack(9,9,9)"
   ]
  },
  {
   "cell_type": "code",
   "execution_count": 113,
   "id": "c47566b7",
   "metadata": {},
   "outputs": [
    {
     "data": {
      "text/plain": [
       "19"
      ]
     },
     "execution_count": 113,
     "metadata": {},
     "output_type": "execute_result"
    }
   ],
   "source": [
    "blackjack(9,9,11)"
   ]
  },
  {
   "cell_type": "markdown",
   "id": "f773cdfd",
   "metadata": {},
   "source": [
    "**SUMMER OF '69:** \n",
    "\n",
    "Return the sum of the numbers in the array, except ignore sections of numbers starting with a 6 and extending to the next 9 (every 6 will be followed by at least one 9). Return 0 for no numbers.\n",
    "\n",
    "\n",
    "    summer_69([1, 3, 5]) --> 9\n",
    "    summer_69([4, 5, 6, 7, 8, 9]) --> 9\n",
    "    summer_69([2, 1, 6, 9, 11]) --> 14"
   ]
  },
  {
   "cell_type": "code",
   "execution_count": 11,
   "id": "a5edd8f7",
   "metadata": {},
   "outputs": [],
   "source": [
    "def summer_69(arr):\n",
    "    sum = 0\n",
    "    \n",
    "    if 6 in arr and 9 in arr:\n",
    "        six_idx = arr.index(6)\n",
    "        nine_idx = arr.index(9)\n",
    "        excluded_idx_list = [x for x in range(six_idx, nine_idx + 1)]\n",
    "        \n",
    "        for i, x in enumerate(arr):\n",
    "            if i not in excluded_idx_list:\n",
    "                sum += x\n",
    "    \n",
    "    else:\n",
    "        for x in arr:\n",
    "            sum += x\n",
    "            \n",
    "    return sum"
   ]
  },
  {
   "cell_type": "code",
   "execution_count": 12,
   "id": "25ae660e",
   "metadata": {},
   "outputs": [
    {
     "data": {
      "text/plain": [
       "9"
      ]
     },
     "execution_count": 12,
     "metadata": {},
     "output_type": "execute_result"
    }
   ],
   "source": [
    "summer_69([1, 3, 5])"
   ]
  },
  {
   "cell_type": "code",
   "execution_count": 13,
   "id": "0eafeb7e",
   "metadata": {},
   "outputs": [
    {
     "data": {
      "text/plain": [
       "9"
      ]
     },
     "execution_count": 13,
     "metadata": {},
     "output_type": "execute_result"
    }
   ],
   "source": [
    "summer_69([4, 5, 6, 7, 8, 9])"
   ]
  },
  {
   "cell_type": "code",
   "execution_count": 14,
   "id": "65e43898",
   "metadata": {},
   "outputs": [
    {
     "data": {
      "text/plain": [
       "14"
      ]
     },
     "execution_count": 14,
     "metadata": {},
     "output_type": "execute_result"
    }
   ],
   "source": [
    "summer_69([2, 1, 6, 9, 11])"
   ]
  },
  {
   "cell_type": "markdown",
   "id": "fef0e3f4",
   "metadata": {},
   "source": [
    "# CHALLENGING PROBLEMS\n",
    "\n",
    "SPY GAME: Write a function that takes in a list of integers and returns True if it contains 007 in order\n",
    "\n",
    "    spy_game([1,2,4,0,0,7,5]) --> True\n",
    "    spy_game([1,0,2,4,0,5,7]) --> True\n",
    "    spy_game([1,7,2,0,4,5,0]) --> False"
   ]
  },
  {
   "cell_type": "code",
   "execution_count": 41,
   "id": "73801819",
   "metadata": {},
   "outputs": [],
   "source": [
    "def spy_game(arr):\n",
    "    new_arr = [str(x) for x in arr if x == 0 or x == 7]\n",
    "    string = ''.join(new_arr)\n",
    "    \n",
    "    return '007' in string\n",
    "    \n",
    "    "
   ]
  },
  {
   "cell_type": "code",
   "execution_count": 42,
   "id": "24ba6cc5",
   "metadata": {},
   "outputs": [
    {
     "data": {
      "text/plain": [
       "True"
      ]
     },
     "execution_count": 42,
     "metadata": {},
     "output_type": "execute_result"
    }
   ],
   "source": [
    "spy_game([1,2,4,0,0,7,5])"
   ]
  },
  {
   "cell_type": "code",
   "execution_count": 43,
   "id": "aefffca6",
   "metadata": {},
   "outputs": [
    {
     "data": {
      "text/plain": [
       "True"
      ]
     },
     "execution_count": 43,
     "metadata": {},
     "output_type": "execute_result"
    }
   ],
   "source": [
    "spy_game([1,0,2,4,0,5,7])"
   ]
  },
  {
   "cell_type": "code",
   "execution_count": 44,
   "id": "4536fc4c",
   "metadata": {},
   "outputs": [
    {
     "data": {
      "text/plain": [
       "False"
      ]
     },
     "execution_count": 44,
     "metadata": {},
     "output_type": "execute_result"
    }
   ],
   "source": [
    "spy_game([1,7,2,0,4,5,0])"
   ]
  },
  {
   "cell_type": "markdown",
   "id": "2f072c90",
   "metadata": {},
   "source": [
    "**COUNT PRIMES:** \n",
    "\n",
    "Write a function that returns the number of prime numbers that exist up to and including a given number\n",
    "\n",
    "    count_primes(100) --> 25 \n",
    "\n",
    "By convention, 0 and 1 are not prime."
   ]
  },
  {
   "cell_type": "code",
   "execution_count": 48,
   "id": "0a963189",
   "metadata": {},
   "outputs": [],
   "source": [
    "def count_primes(num):\n",
    "    primes = 0\n",
    "    \n",
    "    for n in range(2, num + 1):\n",
    "        factors = 0\n",
    "        for x in range(2, n):\n",
    "            if n % x == 0:\n",
    "                factors += 1\n",
    "        \n",
    "        if factors == 0:\n",
    "            primes += 1\n",
    "            \n",
    "    \n",
    "    return primes"
   ]
  },
  {
   "cell_type": "code",
   "execution_count": 49,
   "id": "fd47983d",
   "metadata": {},
   "outputs": [
    {
     "data": {
      "text/plain": [
       "25"
      ]
     },
     "execution_count": 49,
     "metadata": {},
     "output_type": "execute_result"
    }
   ],
   "source": [
    "count_primes(100)"
   ]
  },
  {
   "cell_type": "code",
   "execution_count": 50,
   "id": "e43b2b1e",
   "metadata": {},
   "outputs": [
    {
     "data": {
      "text/plain": [
       "46"
      ]
     },
     "execution_count": 50,
     "metadata": {},
     "output_type": "execute_result"
    }
   ],
   "source": [
    "count_primes(200)"
   ]
  }
 ],
 "metadata": {
  "kernelspec": {
   "display_name": "Python 3 (ipykernel)",
   "language": "python",
   "name": "python3"
  },
  "language_info": {
   "codemirror_mode": {
    "name": "ipython",
    "version": 3
   },
   "file_extension": ".py",
   "mimetype": "text/x-python",
   "name": "python",
   "nbconvert_exporter": "python",
   "pygments_lexer": "ipython3",
   "version": "3.10.9"
  }
 },
 "nbformat": 4,
 "nbformat_minor": 5
}
